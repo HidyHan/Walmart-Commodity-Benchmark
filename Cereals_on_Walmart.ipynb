{
 "cells": [
  {
   "cell_type": "code",
   "execution_count": 1,
   "metadata": {
    "collapsed": false
   },
   "outputs": [],
   "source": [
    "import pandas as pd\n",
    "import numpy as np\n",
    "from datetime import datetime\n",
    "import pytz\n",
    "import os\n",
    "import requests\n",
    "from bs4 import BeautifulSoup\n",
    "import matplotlib.pyplot as plt\n",
    "%matplotlib inline"
   ]
  },
  {
   "cell_type": "code",
   "execution_count": 2,
   "metadata": {
    "collapsed": false
   },
   "outputs": [],
   "source": [
    "cereal_urls=[\"http://www.walmart.com/search/?query=cereal&page=\"+str(i)+\"&cat_id=0\" for i in range(1,51)]\n",
    "# by observation, when searching \"cold cereal\", results stop making sense after page 33\n",
    "# so we just discard the rest of the data\n",
    "cold_cereal_urls=[\"http://www.walmart.com/search/?query=cold+cereal&page=\"+str(i)+\"&cat_id=0\" for i in range(1,34)]"
   ]
  },
  {
   "cell_type": "code",
   "execution_count": 3,
   "metadata": {
    "collapsed": false
   },
   "outputs": [],
   "source": [
    "# for each item, return a [brand,star,numReviews] list\n",
    "# if the item's brand is not as specified, name \"other\"\n",
    "def parseSoup(soup):\n",
    "    info=[\"\"]*3\n",
    "    brand_name=soup.find(\"a\",{\"class\":\"js-product-title\"}).text.split()\n",
    "    rating_and_review=soup.find(\"div\",{\"class\":\"stars stars-small tile-row\"})\n",
    "    if(rating_and_review==None):\n",
    "        rating_and_review=[\"NA\",\"stars\",\"(NA)\",\"ratings\"]\n",
    "    else:\n",
    "        rating_and_review=rating_and_review.text.split()\n",
    "    for i in range(len(brand_name)):\n",
    "        if brand_name[i]==\"Cheerios\" or brand_name[i]==\"Kashi\"or brand_name[i]==\"Kellogg's\" or brand_name[i]==\"Post\":\n",
    "            info[0]=brand_name[i]\n",
    "            break\n",
    "    if(info[0]==\"\"):\n",
    "        info[0]=\"Other\"\n",
    "    info[1]=rating_and_review[0]\n",
    "    info[2]=rating_and_review[2][1:-1]\n",
    "    return info"
   ]
  },
  {
   "cell_type": "code",
   "execution_count": 4,
   "metadata": {
    "collapsed": false
   },
   "outputs": [],
   "source": [
    "# create two lists of all items on Walmart.com using the search term \"cold cereal\" and \"cereal\"\n",
    "# each sublist in the list is of the format [brand,star,numReviews]\n",
    "time=datetime.now().replace(microsecond=0)\n",
    "all_cold_cereal_list=[]\n",
    "for url in cold_cereal_urls:\n",
    "    cereal_soup=BeautifulSoup(requests.get(url).content,\"lxml\")\n",
    "    g_data=cereal_soup.findAll(\"div\",{\"class\":\"tile-content-wrapper\"})\n",
    "    for i in range(len(g_data)):\n",
    "        info=parseSoup(g_data[i])\n",
    "        all_cold_cereal_list.append(info)\n",
    "\n",
    "        \n",
    "all_cereal_list=[]\n",
    "for url in cereal_urls:\n",
    "    cereal_soup=BeautifulSoup(requests.get(url).content,\"lxml\")\n",
    "    g_data=cereal_soup.findAll(\"div\",{\"class\":\"tile-content-wrapper\"})\n",
    "    for i in range(len(g_data)):\n",
    "        info=parseSoup(g_data[i])\n",
    "        all_cereal_list.append(info)\n",
    "        \n",
    "# compute the total number of all/top3 results for each brand\n",
    "cereal_total={\"Kellogg's\":0,\"Post\":0,\"Kashi\":0,\"Cheerios\":0,\"Other\":0}\n",
    "cereal_top3={\"Kellogg's\":0,\"Post\":0,\"Kashi\":0,\"Cheerios\":0,\"Other\":0}\n",
    "cold_cereal_total={\"Kellogg's\":0,\"Post\":0,\"Kashi\":0,\"Cheerios\":0,\"Other\":0}\n",
    "cold_cereal_top3={\"Kellogg's\":0,\"Post\":0,\"Kashi\":0,\"Cheerios\":0,\"Other\":0}\n",
    "for i in range(len(all_cereal_list)):\n",
    "    cereal_total[all_cereal_list[i][0]]+=1\n",
    "    if(i<3):\n",
    "        cereal_top3[all_cereal_list[i][0]]+=1\n",
    "for i in range(len(all_cold_cereal_list)):\n",
    "    cold_cereal_total[all_cold_cereal_list[i][0]]+=1\n",
    "    if(i<3):\n",
    "        cold_cereal_top3[all_cold_cereal_list[i][0]]+=1\n"
   ]
  },
  {
   "cell_type": "code",
   "execution_count": 5,
   "metadata": {
    "collapsed": false
   },
   "outputs": [],
   "source": [
    "# update the dataset\n",
    "add_header=False\n",
    "if(not os.path.exists(\"Cereal_Data.csv\")):\n",
    "    add_header=True\n",
    "    \n",
    "idx=[\"(cold_cereal, top3)\",\"(cold_cereal, all)\",\"(cereal, top3)\",\"(cereal, all)\"]\n",
    "df=pd.DataFrame(0,index=idx,columns=[\"Cheerios\",\"Kashi\",\"Kellogg's\",\"Other\",\"Post\"])\n",
    "\n",
    "df.loc[\"(cold_cereal, top3)\"]=[i[1] for i in sorted(cold_cereal_top3.items())]\n",
    "df.loc[\"(cold_cereal, all)\"]=[i[1] for i in sorted(cold_cereal_total.items())]\n",
    "df.loc[\"(cereal, top3)\"]=[i[1] for i in sorted(cereal_top3.items())]\n",
    "df.loc[\"(cereal, all)\"]=[i[1] for i in sorted(cereal_total.items())]\n",
    "df[\"Time\"]=time\n",
    "\n",
    "# may encounter some formatting issue if the file has been modified outside this program\n",
    "with open(\"Cereal_Data.csv\",\"a\") as f:\n",
    "    df.to_csv(f,header=add_header)\n"
   ]
  },
  {
   "cell_type": "code",
   "execution_count": 6,
   "metadata": {
    "collapsed": false
   },
   "outputs": [],
   "source": [
    "ranking_and_star=[]\n",
    "# assume the correlation between ranking and star is independent of search word\n",
    "# so combine data for the two search terms\n",
    "for i in range(len(all_cold_cereal_list)):\n",
    "    if(all_cold_cereal_list[i][1]!=\"NA\"):\n",
    "        ranking_and_star.append([i+1,all_cold_cereal_list[i][1]])\n",
    "for i in range(len(all_cereal_list)):\n",
    "    if(all_cereal_list[i][1]!=\"NA\"):\n",
    "        ranking_and_star.append([i+1,all_cereal_list[i][1]])\n",
    "ranking_for_star=[item[0] for item in ranking_and_star]\n",
    "star=[item[1] for item in ranking_and_star]"
   ]
  },
  {
   "cell_type": "code",
   "execution_count": 20,
   "metadata": {
    "collapsed": false
   },
   "outputs": [],
   "source": [
    "# can explore the ranking correlation within any ranking range, e.g. top 100, top 200...\n",
    "# for now, assume the range is all data\n",
    "minVal=min(ranking_for_star)\n",
    "maxVal=max(ranking_for_star)\n",
    "intervals=5\n",
    "distance=int((maxVal-minVal)/5)\n",
    "cutoffs=[minVal+i*distance for i in range(intervals)]\n",
    "cutoffs.append(maxVal)"
   ]
  },
  {
   "cell_type": "code",
   "execution_count": 69,
   "metadata": {
    "collapsed": false
   },
   "outputs": [],
   "source": [
    "rough_ranking_for_star_dict={i:[] for i in range(1,intervals+1)}\n",
    "for i in range(len(ranking_for_star)):\n",
    "    for j in range(1,intervals+1):\n",
    "        if(ranking_for_star[i]<=cutoffs[j]):\n",
    "            rough_ranking_for_star_dict[j].append(star[i])\n",
    "            break\n",
    "            "
   ]
  },
  {
   "cell_type": "code",
   "execution_count": 81,
   "metadata": {
    "collapsed": false
   },
   "outputs": [],
   "source": [
    "all_keys=list(sorted(rough_ranking_for_star_dict.keys()))\n",
    "\n",
    "possible_stars=[i*0.5 for i in range(0,11)]\n",
    "\n",
    "indices=[(i,j) for i in all_keys for j in possible_stars]\n",
    "\n",
    "data=[rough_ranking_for_star_dict[i[0]].count(str(i[1])) for i in indices]\n",
    "radius=[np.pi*i for i in data]\n",
    "\n",
    "x,y=zip(*indices)\n",
    "\n",
    "fig=plt.figure(figsize=[5,5])\n",
    "fig.suptitle(\"rough ranking and stars\",fontsize=14,fontweight=\"bold\")\n",
    "plt.scatter(x,y,s=data,c=np.random.rand(len(x)),alpha=0.5)"
   ]
  },
  {
   "cell_type": "code",
   "execution_count": null,
   "metadata": {
    "collapsed": true
   },
   "outputs": [],
   "source": []
  }
 ],
 "metadata": {
  "kernelspec": {
   "display_name": "Python 3",
   "language": "python",
   "name": "python3"
  },
  "language_info": {
   "codemirror_mode": {
    "name": "ipython",
    "version": 3
   },
   "file_extension": ".py",
   "mimetype": "text/x-python",
   "name": "python",
   "nbconvert_exporter": "python",
   "pygments_lexer": "ipython3",
   "version": "3.4.3"
  }
 },
 "nbformat": 4,
 "nbformat_minor": 0
}
