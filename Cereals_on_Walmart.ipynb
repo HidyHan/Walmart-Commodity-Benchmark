{
 "cells": [
  {
   "cell_type": "code",
   "execution_count": 2,
   "metadata": {
    "collapsed": false
   },
   "outputs": [],
   "source": [
    "import pandas as pd\n",
    "from datetime import datetime\n",
    "import pytz\n",
    "import os\n",
    "import requests\n",
    "from bs4 import BeautifulSoup"
   ]
  },
  {
   "cell_type": "code",
   "execution_count": 3,
   "metadata": {
    "collapsed": false
   },
   "outputs": [],
   "source": [
    "cereal_urls=[\"http://www.walmart.com/search/?query=cereal&page=\"+str(i)+\"&cat_id=0\" for i in range(1,51)]\n",
    "# by observation, when searching \"cold cereal\", results stop making sense after page 33\n",
    "# so we just discard the rest of the data\n",
    "cold_cereal_urls=[\"http://www.walmart.com/search/?query=cold+cereal&page=\"+str(i)+\"&cat_id=0\" for i in range(1,34)]"
   ]
  },
  {
   "cell_type": "code",
   "execution_count": 4,
   "metadata": {
    "collapsed": false
   },
   "outputs": [],
   "source": [
    "# for each item, return a [brand,star,numReviews] list\n",
    "# if the item's brand is not among the specified ones, name it as \"Other\"\n",
    "def parseSoup(soup):\n",
    "    info=[\"\"]*3\n",
    "    brand_name=soup.find(\"a\",{\"class\":\"js-product-title\"}).text.split()\n",
    "    rating_and_review=soup.find(\"div\",{\"class\":\"stars stars-small tile-row\"})\n",
    "    if(rating_and_review==None):\n",
    "        # missing data for star: NA\n",
    "        # missing data for numReviews: by default, 0 reviews\n",
    "        rating_and_review=[\"NA\",\"stars\",\"(0)\",\"ratings\"]\n",
    "    else:\n",
    "        rating_and_review=rating_and_review.text.split()\n",
    "    for i in range(len(brand_name)):\n",
    "        if brand_name[i]==\"Cheerios\" or brand_name[i]==\"Kashi\"or brand_name[i]==\"Kellogg's\" or brand_name[i]==\"Post\":\n",
    "            info[0]=brand_name[i]\n",
    "            break\n",
    "    if(info[0]==\"\"):\n",
    "        info[0]=\"Other\"\n",
    "    info[1]=rating_and_review[0]\n",
    "    info[2]=rating_and_review[2][1:-1]\n",
    "    return info"
   ]
  },
  {
   "cell_type": "code",
   "execution_count": 5,
   "metadata": {
    "collapsed": false
   },
   "outputs": [],
   "source": [
    "# create two lists of all items on Walmart.com using the search term \"cold cereal\" and \"cereal\"\n",
    "# each sublist in the list is of the format [brand,star,numReviews]\n",
    "time=datetime.now().replace(microsecond=0)\n",
    "all_cold_cereal_list=[]\n",
    "for url in cold_cereal_urls:\n",
    "    cereal_soup=BeautifulSoup(requests.get(url).content,\"lxml\")\n",
    "    g_data=cereal_soup.findAll(\"div\",{\"class\":\"tile-content-wrapper\"})\n",
    "    for i in range(len(g_data)):\n",
    "        info=parseSoup(g_data[i])\n",
    "        all_cold_cereal_list.append(info)\n",
    "\n",
    "        \n",
    "all_cereal_list=[]\n",
    "for url in cereal_urls:\n",
    "    cereal_soup=BeautifulSoup(requests.get(url).content,\"lxml\")\n",
    "    g_data=cereal_soup.findAll(\"div\",{\"class\":\"tile-content-wrapper\"})\n",
    "    for i in range(len(g_data)):\n",
    "        info=parseSoup(g_data[i])\n",
    "        all_cereal_list.append(info)\n",
    "        \n",
    "# compute the total number of all/top3 results for each brand\n",
    "cereal_total={\"Kellogg's\":0,\"Post\":0,\"Kashi\":0,\"Cheerios\":0,\"Other\":0}\n",
    "cereal_top3={\"Kellogg's\":0,\"Post\":0,\"Kashi\":0,\"Cheerios\":0,\"Other\":0}\n",
    "cold_cereal_total={\"Kellogg's\":0,\"Post\":0,\"Kashi\":0,\"Cheerios\":0,\"Other\":0}\n",
    "cold_cereal_top3={\"Kellogg's\":0,\"Post\":0,\"Kashi\":0,\"Cheerios\":0,\"Other\":0}\n",
    "for i in range(len(all_cereal_list)):\n",
    "    cereal_total[all_cereal_list[i][0]]+=1\n",
    "    if(i<3):\n",
    "        cereal_top3[all_cereal_list[i][0]]+=1\n",
    "for i in range(len(all_cold_cereal_list)):\n",
    "    cold_cereal_total[all_cold_cereal_list[i][0]]+=1\n",
    "    if(i<3):\n",
    "        cold_cereal_top3[all_cold_cereal_list[i][0]]+=1\n"
   ]
  },
  {
   "cell_type": "code",
   "execution_count": 6,
   "metadata": {
    "collapsed": false
   },
   "outputs": [],
   "source": [
    "# update the dataset\n",
    "add_header=False\n",
    "if(not os.path.exists(\"Cereal_Data.csv\")):\n",
    "    add_header=True\n",
    "    \n",
    "idx=[\"(cold_cereal, top3)\",\"(cold_cereal, all)\",\"(cereal, top3)\",\"(cereal, all)\"]\n",
    "df=pd.DataFrame(0,index=idx,columns=[\"Cheerios\",\"Kashi\",\"Kellogg's\",\"Other\",\"Post\"])\n",
    "\n",
    "df.loc[\"(cold_cereal, top3)\"]=[i[1] for i in sorted(cold_cereal_top3.items())]\n",
    "df.loc[\"(cold_cereal, all)\"]=[i[1] for i in sorted(cold_cereal_total.items())]\n",
    "df.loc[\"(cereal, top3)\"]=[i[1] for i in sorted(cereal_top3.items())]\n",
    "df.loc[\"(cereal, all)\"]=[i[1] for i in sorted(cereal_total.items())]\n",
    "df[\"Time\"]=time\n",
    "\n",
    "# may encounter some formatting issue if the file has been modified outside this program\n",
    "with open(\"Cereal_Data.csv\",\"a\") as f:\n",
    "    df.to_csv(f,header=add_header)\n"
   ]
  },
  {
   "cell_type": "code",
   "execution_count": 7,
   "metadata": {
    "collapsed": false
   },
   "outputs": [],
   "source": [
    "# generate a dataset of ranking and stars\n",
    "ranking_for_star=[]\n",
    "star=[]\n",
    "# assume the correlation between ranking and star is independent of search word\n",
    "# so combine data for the two search terms\n",
    "for i in range(len(all_cold_cereal_list)):\n",
    "    # discard items that has no stars\n",
    "    if(all_cold_cereal_list[i][1]!=\"NA\"):\n",
    "        ranking_for_star.append(i+1)\n",
    "        star.append(all_cold_cereal_list[i][1])\n",
    "for i in range(len(all_cereal_list)):\n",
    "    if(all_cereal_list[i][1]!=\"NA\"):\n",
    "        ranking_for_star.append(i+1)\n",
    "        star.append(all_cereal_list[i][1])\n",
    "        \n",
    "df_star=pd.DataFrame()\n",
    "df_star[\"ranking\"]=ranking_for_star\n",
    "df_star[\"star\"]=star\n",
    "with open(\"Ranking_and_Star.csv\",\"w\") as f:\n",
    "    df_star.to_csv(f,index=False)\n",
    "\n",
    "# generate a dataset of ranking and numReviews\n",
    "ranking_for_review=[]\n",
    "review=[]\n",
    "for i in range(len(all_cold_cereal_list)):\n",
    "        ranking_for_review.append(i+1)\n",
    "        review.append(all_cold_cereal_list[i][2])\n",
    "for i in range(len(all_cereal_list)):\n",
    "        ranking_for_review.append(i+1)\n",
    "        review.append(all_cereal_list[i][2])\n",
    "\n",
    "df_review=pd.DataFrame()\n",
    "df_review[\"ranking\"]=ranking_for_review\n",
    "df_review[\"numReviews\"]=review\n",
    "with open(\"Ranking_and_Reviews.csv\",\"w\") as f:\n",
    "    df_review.to_csv(f,index=False)"
   ]
  },
  {
   "cell_type": "code",
   "execution_count": null,
   "metadata": {
    "collapsed": true
   },
   "outputs": [],
   "source": []
  }
 ],
 "metadata": {
  "kernelspec": {
   "display_name": "Python 3",
   "language": "python",
   "name": "python3"
  },
  "language_info": {
   "codemirror_mode": {
    "name": "ipython",
    "version": 3
   },
   "file_extension": ".py",
   "mimetype": "text/x-python",
   "name": "python",
   "nbconvert_exporter": "python",
   "pygments_lexer": "ipython3",
   "version": "3.4.3"
  }
 },
 "nbformat": 4,
 "nbformat_minor": 0
}
